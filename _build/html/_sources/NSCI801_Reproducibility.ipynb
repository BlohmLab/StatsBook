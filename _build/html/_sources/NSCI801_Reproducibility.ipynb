{
 "cells": [
  {
   "cell_type": "markdown",
   "id": "floppy-celebrity",
   "metadata": {
    "slideshow": {
     "slide_type": "slide"
    }
   },
   "source": [
    "# Reproducibility, reliability, validity\n",
    "## NSCI 801 - Quantitative Neuroscience\n",
    "\n",
    "Gunnar Blohm"
   ]
  },
  {
   "cell_type": "markdown",
   "id": "executive-cooling",
   "metadata": {
    "slideshow": {
     "slide_type": "slide"
    }
   },
   "source": [
    "### Outline\n",
    "* statistical considerations\n",
    "    * multiple comparisons\n",
    "    * exploratory analyses vs hypothesis testing\n",
    "* Open Science\n",
    "    * general steps toward transparency\n",
    "    * pre-registration / registered report\n",
    "* Open science vs. patents"
   ]
  },
  {
   "cell_type": "markdown",
   "id": "cloudy-hybrid",
   "metadata": {
    "slideshow": {
     "slide_type": "slide"
    }
   },
   "source": [
    "### Multiple comparisons\n",
    "In [2009, Bennett et al.](https://teenspecies.github.io/pdfs/NeuralCorrelates.pdf) studies the brain of a salmon using fMRI and found significant activation despite the salmon being dead... (IgNobel Prize 2012)\n",
    "\n",
    "Why did they find this?"
   ]
  },
  {
   "cell_type": "markdown",
   "id": "failing-butterfly",
   "metadata": {
    "slideshow": {
     "slide_type": "fragment"
    }
   },
   "source": [
    "They imaged 140 volumes (samples) of the brain and ran a standard preprocessing pipeline, including spatial realignment, co-registration of functional and anatomical volumes, and 8mm full-width at half maximum (FWHM) Gaussian smoothing. \n",
    "\n",
    "They computed voxel-wise statistics. \n",
    "\n",
    "<img style=\"float: center; width:750px;\" src=\"stuff/salmon.png\">"
   ]
  },
  {
   "cell_type": "markdown",
   "id": "wanted-beatles",
   "metadata": {
    "slideshow": {
     "slide_type": "fragment"
    }
   },
   "source": [
    "This is a prime example of what's known as the **multiple comparison problem**!\n",
    "\n",
    "“the problem that occurs when one considers a set of statistical inferences simultaneously or infers a subset of parameters selected based on the observed values” (Wikipedia)\n",
    "* problem that arises when implementing a large number of statistical tests in the same experiment\n",
    "* the more tests we do, the higher probability of obtaining, at least, one test with statistical significance"
   ]
  },
  {
   "cell_type": "markdown",
   "id": "restricted-steps",
   "metadata": {
    "slideshow": {
     "slide_type": "subslide"
    }
   },
   "source": [
    "### Probability(false positive) = f(number comparisons)\n",
    "If you repeat a statistical test over and over again, the false positive ($FP$) rate ($P$) evolves as follows:\n",
    "$$P(FP)=1-(1-\\alpha)^N$$\n",
    "* $\\alpha$ is the confidence level for each individual test (e.g. 0.05)\n",
    "* $N$ is the number of comparisons\n",
    "\n",
    "Let's see how this works..."
   ]
  },
  {
   "cell_type": "code",
   "execution_count": 9,
   "id": "danish-kitchen",
   "metadata": {
    "slideshow": {
     "slide_type": "fragment"
    }
   },
   "outputs": [],
   "source": [
    "import numpy as np\n",
    "import matplotlib.pyplot as plt\n",
    "import seaborn as sns\n",
    "from scipy import stats\n",
    "\n",
    "plt.style.use('dark_background')"
   ]
  },
  {
   "cell_type": "markdown",
   "id": "prescription-oklahoma",
   "metadata": {
    "slideshow": {
     "slide_type": "fragment"
    }
   },
   "source": [
    "Let's create some random data..."
   ]
  },
  {
   "cell_type": "code",
   "execution_count": 10,
   "id": "indonesian-market",
   "metadata": {
    "slideshow": {
     "slide_type": "fragment"
    }
   },
   "outputs": [
    {
     "data": {
      "text/plain": [
       "<seaborn.axisgrid.FacetGrid at 0x226c352bb50>"
      ]
     },
     "execution_count": 10,
     "metadata": {},
     "output_type": "execute_result"
    },
    {
     "data": {
      "image/png": "[encoded data removed]",
      "text/plain": [
       "<Figure size 360x360 with 1 Axes>"
      ]
     },
     "metadata": {},
     "output_type": "display_data"
    }
   ],
   "source": [
    "rvs = stats.norm.rvs(loc=0, scale=10, size=140)\n",
    "sns.displot(rvs)"
   ]
  },
  {
   "cell_type": "markdown",
   "id": "tired-eight",
   "metadata": {
    "slideshow": {
     "slide_type": "fragment"
    }
   },
   "source": [
    "Now let's run a t-test to see if it's different from 0"
   ]
  },
  {
   "cell_type": "code",
   "execution_count": 11,
   "id": "olive-afternoon",
   "metadata": {
    "slideshow": {
     "slide_type": "fragment"
    }
   },
   "outputs": [
    {
     "name": "stdout",
     "output_type": "stream",
     "text": [
      "0.28343500438551184\n"
     ]
    }
   ],
   "source": [
    "statistic, pvalue = stats.ttest_1samp(rvs, 0)\n",
    "print(pvalue)"
   ]
  },
  {
   "cell_type": "markdown",
   "id": "extra-chick",
   "metadata": {
    "slideshow": {
     "slide_type": "fragment"
    }
   },
   "source": [
    "Now let's do this many times for different samples, e.g. different voxels of our salmon..."
   ]
  },
  {
   "cell_type": "code",
   "execution_count": 22,
   "id": "respective-native",
   "metadata": {
    "slideshow": {
     "slide_type": "fragment"
    }
   },
   "outputs": [
    {
     "name": "stdout",
     "output_type": "stream",
     "text": [
      "53\n",
      "The false positve rate was 5.3 %\n"
     ]
    }
   ],
   "source": [
    "def t_test_function(alp, N):\n",
    "    \"\"\"computes t-test statistics on N random samples and returns number of significant tests\"\"\"\n",
    "    \n",
    "    counter = 0\n",
    "    for i in range(N):\n",
    "        rvs = stats.norm.rvs(loc=0, scale=10, size=1000)\n",
    "        statistic, pvalue = stats.ttest_1samp(rvs, 0)\n",
    "        if pvalue <= alp:\n",
    "            counter = counter + 1\n",
    "        \n",
    "    print(counter)\n",
    "    return counter\n",
    "\n",
    "N = 1000\n",
    "counter = t_test_function(0.05, N)\n",
    "print(\"The false positve rate was\", counter/N*100, \"%\")"
   ]
  },
  {
   "cell_type": "markdown",
   "id": "thermal-detection",
   "metadata": {
    "slideshow": {
     "slide_type": "fragment"
    }
   },
   "source": [
    "Well, we wanted a $\\alpha=0.05$, so what's the problem?\n",
    "\n",
    "The problem is that we have hugely increased the likelihood of finding something significant by chance! (**p-hacking**)\n",
    "\n",
    "Take the above example:\n",
    "* running 100 independent tests with $\\alpha=0.05$ resulted in a few positives\n",
    "* well, that's good right? Now we can see if there is a story here we can publish...\n",
    "    * dead salmon!\n",
    "* remember, our data was just noise!!! There was NO signal!\n",
    "\n",
    "This is why we have corrections for multiple comparisons that adjust the p-value so that the **overall chance** to find a false positive stays at $\\alpha$!\n",
    "\n",
    "Why does this matter?"
   ]
  },
  {
   "cell_type": "markdown",
   "id": "original-russia",
   "metadata": {
    "slideshow": {
     "slide_type": "subslide"
    }
   },
   "source": [
    "### Exploratory analyses vs hypothesis testing\n",
    "\n",
    "Why do we distinguish between them?"
   ]
  },
  {
   "cell_type": "markdown",
   "id": "thorough-appointment",
   "metadata": {
    "slideshow": {
     "slide_type": "fragment"
    }
   },
   "source": [
    "<img style=\"float: center; width:750px;\" src=\"stuff/ExploreConfirm.png\">"
   ]
  },
  {
   "cell_type": "markdown",
   "id": "secret-riverside",
   "metadata": {
    "slideshow": {
     "slide_type": "fragment"
    }
   },
   "source": [
    "But in science, confirmatory analyses that are hypothesis-driven are often much more valued. \n",
    "\n",
    "There is a temptation to frame *exploratory* analyses and *confirmatory*...\n",
    "\n",
    "**This leads to disaster!!!**\n",
    "* science is not solid\n",
    "* replication crisis (psychology, social science, medicine, marketing, economics, sports science, etc, etc...)\n",
    "* shaken trust in science\n",
    "\n",
    "<img style=\"float: center; width:750px;\" src=\"stuff/crisis.jpeg\">\n",
    "\n",
    "([Baker 2016](https://www.nature.com/news/1-500-scientists-lift-the-lid-on-reproducibility-1.19970))"
   ]
  },
  {
   "cell_type": "markdown",
   "id": "unsigned-frost",
   "metadata": {
    "slideshow": {
     "slide_type": "slide"
    }
   },
   "source": [
    "### Quick excursion: survivorship bias\n",
    "\"Survivorship bias or survival bias is the logical error of concentrating on the people or things that made it past some selection process and overlooking those that did not, typically because of their lack of visibility.\" (Wikipedia)\n",
    "\n",
    "<img style=\"float: center; width:750px;\" src=\"stuff/SurvivorshipBias.png\">"
   ]
  },
  {
   "cell_type": "markdown",
   "id": "moral-afternoon",
   "metadata": {
    "slideshow": {
     "slide_type": "fragment"
    }
   },
   "source": [
    "**How does survivorship bias affect neuroscience?**\n",
    "\n",
    "Think about it..."
   ]
  },
  {
   "cell_type": "markdown",
   "id": "romance-kingdom",
   "metadata": {
    "slideshow": {
     "slide_type": "fragment"
    }
   },
   "source": [
    "E.g.\n",
    "* people select neurons to analyze\n",
    "* profs say it's absolutely achievable to become a prof\n",
    "\n",
    "Just keep it in mind..."
   ]
  },
  {
   "cell_type": "markdown",
   "id": "difficult-nitrogen",
   "metadata": {
    "slideshow": {
     "slide_type": "slide"
    }
   },
   "source": [
    "### Open science - transparency\n",
    "Open science can hugely help increasing transparency in many different ways so that findings and data can be evaluated for what they are:\n",
    "* publish data acquisition protocol and code: increases data reproducibility & credibility\n",
    "* publish data: data get second, third, etc... lives\n",
    "* publish data processing / analyses: increases reproducibility of results\n",
    "* publish figures code and stats: increases reproducibility and credibility of conclusions\n",
    "* pre-register hypotheses and analyses: ensures *confirmatory* analyses are not *exploratory* (HARKing)\n",
    "\n",
    "For more info, see NSCI800 lectures about Open Science: [OS1](http://www.compneurosci.com/NSCI800/OpenScienceI.pdf), [OS2](http://www.compneurosci.com/NSCI800/OpenScienceII.pdf)"
   ]
  },
  {
   "cell_type": "markdown",
   "id": "sublime-suspension",
   "metadata": {
    "slideshow": {
     "slide_type": "subslide"
    }
   },
   "source": [
    "### Pre-registration / registered reports\n",
    "<img style=\"float:right; width:500px;\" src=\"stuff/RR.png\">\n",
    "\n",
    "* IPA guarantees publication\n",
    "    * If original methods are followed\n",
    "    * Main conclusions need to come from originally proposed analyses\n",
    "* Does not prevent exploratory analyses\n",
    "    * Need to be labeled as such\n",
    "    \n",
    "[https://Cos.io/rr](https://Cos.io/rr)"
   ]
  },
  {
   "cell_type": "markdown",
   "id": "exceptional-timothy",
   "metadata": {
    "slideshow": {
     "slide_type": "fragment"
    }
   },
   "source": [
    "Please follow **Stage 1** instructions of [the registered report intrustions from eNeuro](https://www.eneuro.org/sites/default/files/additional_assets/pdf/eNeuro%20Registered%20Reports%20Author%20Guidelines.pdf) for the course evaluation...\n",
    "\n",
    "Questions???"
   ]
  },
  {
   "cell_type": "markdown",
   "id": "gorgeous-uganda",
   "metadata": {
    "slideshow": {
     "slide_type": "slide"
    }
   },
   "source": [
    "### Open science vs. patents\n",
    "The goal of Open Science is to share all aspects of research with the public!\n",
    "* because knowledge should be freely available\n",
    "* because the public paid for the science to happen in the first place\n",
    "\n",
    "However, this prevents from patenting scientific results! \n",
    "* this is good for science, because patents obstruct research\n",
    "* prevents full privitazation of research: companies driving research is biased by private interest"
   ]
  },
  {
   "cell_type": "markdown",
   "id": "final-undergraduate",
   "metadata": {
    "slideshow": {
     "slide_type": "fragment"
    }
   },
   "source": [
    "Turns out open science is good for business!\n",
    "* more people contribute\n",
    "* wider adoption\n",
    "    * e.g. Github = Microsoft, Android = Google, etc\n",
    "* better for society\n",
    "    * e.g.  nonprofit pharma"
   ]
  },
  {
   "cell_type": "markdown",
   "id": "complete-coffee",
   "metadata": {
    "slideshow": {
     "slide_type": "fragment"
    }
   },
   "source": [
    "**Why are patents still a thing?**\n",
    "\n",
    "Well, some people think it's an outdated and morally corrupt concept. \n",
    "* goal: maximum profit\n",
    "* enabler: capitalism\n",
    "* victims: general public\n",
    "\n",
    "Think about it and decide for yourself what to do with your research!!!"
   ]
  },
  {
   "cell_type": "markdown",
   "id": "vulnerable-magnitude",
   "metadata": {
    "slideshow": {
     "slide_type": "slide"
    }
   },
   "source": [
    "### THANK YOU!!!\n",
    "<img style=\"float:center; width:750px;\" src=\"stuff/empower.jpg\">"
   ]
  }
 ],
 "metadata": {
  "celltoolbar": "Slideshow",
  "kernelspec": {
   "display_name": "Python 3 (ipykernel)",
   "language": "python",
   "name": "python3"
  },
  "language_info": {
   "codemirror_mode": {
    "name": "ipython",
    "version": 3
   },
   "file_extension": ".py",
   "mimetype": "text/x-python",
   "name": "python",
   "nbconvert_exporter": "python",
   "pygments_lexer": "ipython3",
   "version": "3.9.7"
  }
 },
 "nbformat": 4,
 "nbformat_minor": 5
}
