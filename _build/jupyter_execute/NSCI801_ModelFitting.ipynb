{
 "cells": [
  {
   "cell_type": "markdown",
   "metadata": {
    "slideshow": {
     "slide_type": "slide"
    }
   },
   "source": [
    "# Models in Neuroscience\n",
    "## NSCI 801 - Quantitative Neuroscience\n",
    "\n",
    "Gunnar Blohm"
   ]
  },
  {
   "cell_type": "markdown",
   "metadata": {
    "slideshow": {
     "slide_type": "slide"
    }
   },
   "source": [
    "### Outline\n",
    "\n",
    "* Models in scientific discovery\n",
    "* Usefulness of models\n",
    "* Model fitting\n"
   ]
  },
  {
   "cell_type": "markdown",
   "metadata": {
    "slideshow": {
     "slide_type": "slide"
    }
   },
   "source": [
    "### Models in scientific discovery\n",
    "Models help answering three potential types of questions about the brain (Dayan & Abbott, 2001)\n",
    "\n",
    "* Descriptive = What? -- Compact summary of large amounts of data\n",
    "\n",
    "* Mechanistic = How? -- Show how neural circuits perform complex function\n",
    "\n",
    "* Interpretive = Why? -- Computations in the brain are usually performed in an optimal or nearly optimal way / Understanding optimal algorithms and their implementation to explain why the brain is designed the way it is\n"
   ]
  },
  {
   "cell_type": "markdown",
   "metadata": {
    "slideshow": {
     "slide_type": "subslide"
    }
   },
   "source": [
    "### Models in scientific discovery\n",
    "There are different levels of models (Marr)\n",
    "\n",
    "* Computational level - 1: what does the system do and why does it do these things\n",
    "* Algorithmic level - 2: how does the system do what it does, specifically, what representations does it use and what processes does it employ to build and manipulate the representations\n",
    "* Implementation level - 3: how is the system physically realised"
   ]
  },
  {
   "cell_type": "markdown",
   "metadata": {
    "slideshow": {
     "slide_type": "subslide"
    }
   },
   "source": [
    "### Models in scientific discovery\n",
    "Judea Pearl (in \"Book of WHY\"): _\"the model should depict, however qualitatively, the process that generates the data: in other words, the cause-effect forces that operate in the environment and shape the data generated.\"_\n",
    "\n",
    "![Pearl](stuff/Pearl-flow.png)"
   ]
  },
  {
   "cell_type": "markdown",
   "metadata": {
    "slideshow": {
     "slide_type": "slide"
    }
   },
   "source": [
    "### Usefulness of models\n",
    "\n",
    "* Gain understanding\n",
    "* Identify hypotheses, assumptions, unknowns\n",
    "* Make quantitative predictions\n",
    "* Build brain model (stroke lesions etc)\n",
    "* Inspire new technologies\n",
    "* Design useful experiments (i.e. animal research)\n",
    "\n",
    "![models in science](stuff/models-in-science.png)"
   ]
  },
  {
   "cell_type": "markdown",
   "metadata": {
    "slideshow": {
     "slide_type": "fragment"
    }
   },
   "source": [
    "* [A How-to-Model Guide for Neuroscience](https://www.eneuro.org/content/7/1/ENEURO.0352-19.2019)\n",
    "* [Neuromatch Academy W1D1 - model types](https://github.com/NeuromatchAcademy/course-content/blob/master/tutorials/README.md#w1d1---model-types)\n",
    "* [Neuromatch Academy W1D2 - how to model](https://github.com/NeuromatchAcademy/course-content/blob/master/tutorials/README.md#w1d2---modeling-practice)\n",
    "* see also the [updated how-to-model guidance from Neuromatch Academy](https://compneuro.neuromatch.io/tutorials/W1D2_ModelingPractice/W1D2_Intro.html)"
   ]
  },
  {
   "cell_type": "markdown",
   "metadata": {
    "slideshow": {
     "slide_type": "slide"
    }
   },
   "source": [
    "### Model fitting 1 - MSE\n",
    "A common method is to compute the average (mean) squared error (MSE) of the model predictions $\\hat{y_i}$ for the $m$ true values $y_i$ in the data set: $$ \\textrm{MSE}_{\\textrm{test}} = \\frac{1}{m}\\sum_i(\\hat{y_i}-y_i)^2$$\n",
    "\n",
    "Let's try this..."
   ]
  },
  {
   "cell_type": "markdown",
   "metadata": {
    "slideshow": {
     "slide_type": "subslide"
    }
   },
   "source": [
    "### Model fitting 1 - MSE"
   ]
  },
  {
   "cell_type": "code",
   "execution_count": 1,
   "metadata": {
    "slideshow": {
     "slide_type": "fragment"
    }
   },
   "outputs": [
    {
     "ename": "ModuleNotFoundError",
     "evalue": "No module named 'scipy'",
     "output_type": "error",
     "traceback": [
      "\u001b[1;31m---------------------------------------------------------------------------\u001b[0m",
      "\u001b[1;31mModuleNotFoundError\u001b[0m                       Traceback (most recent call last)",
      "Input \u001b[1;32mIn [1]\u001b[0m, in \u001b[0;36m<cell line: 1>\u001b[1;34m()\u001b[0m\n\u001b[1;32m----> 1\u001b[0m \u001b[38;5;28;01mfrom\u001b[39;00m \u001b[38;5;21;01mscipy\u001b[39;00m\u001b[38;5;21;01m.\u001b[39;00m\u001b[38;5;21;01mstats\u001b[39;00m \u001b[38;5;28;01mimport\u001b[39;00m norm\n\u001b[0;32m      2\u001b[0m \u001b[38;5;28;01mimport\u001b[39;00m \u001b[38;5;21;01mnumpy\u001b[39;00m \u001b[38;5;28;01mas\u001b[39;00m \u001b[38;5;21;01mnp\u001b[39;00m\n\u001b[0;32m      3\u001b[0m \u001b[38;5;28;01mimport\u001b[39;00m \u001b[38;5;21;01mmatplotlib\u001b[39;00m\u001b[38;5;21;01m.\u001b[39;00m\u001b[38;5;21;01mpyplot\u001b[39;00m \u001b[38;5;28;01mas\u001b[39;00m \u001b[38;5;21;01mplt\u001b[39;00m\n",
      "\u001b[1;31mModuleNotFoundError\u001b[0m: No module named 'scipy'"
     ]
    }
   ],
   "source": [
    "from scipy.stats import norm\n",
    "import numpy as np\n",
    "import matplotlib.pyplot as plt\n",
    "from scipy.optimize import minimize\n",
    "\n",
    "from mpl_toolkits.mplot3d import Axes3D\n",
    "from matplotlib import cm\n",
    "%matplotlib inline\n",
    "\n",
    "np.random.seed(44)\n",
    "plt.style.use('dark_background')"
   ]
  },
  {
   "cell_type": "code",
   "execution_count": 31,
   "metadata": {
    "slideshow": {
     "slide_type": "fragment"
    }
   },
   "outputs": [
    {
     "data": {
      "image/png": "[encoded data removed]",
      "text/plain": [
       "<Figure size 432x288 with 1 Axes>"
      ]
     },
     "metadata": {
      "filenames": {
       "image/png": "C:\\Users\\Gunnar\\Documents\\Teaching\\NSCI801-QuantitativeNeuro\\NSCI801book\\_build\\jupyter_execute\\NSCI801_ModelFitting_10_0.png"
      }
     },
     "output_type": "display_data"
    }
   ],
   "source": [
    "# (adapted from Ben Cuthbert's tutorial)\n",
    "# generate some noisy data\n",
    "n_samples = 15\n",
    "w_true = 1.2\n",
    "x = np.random.rand(n_samples)*10\n",
    "noise = norm.rvs(0,1,x.shape) # the original code used uniform noise\n",
    "y = w_true*x + noise\n",
    "\n",
    "ax = plt.subplot(1,1,1) \n",
    "ax.scatter(x, y)\n",
    "ax.set_xlabel('x')\n",
    "ax.set_ylabel('y')\n",
    "\n",
    "# linear regression model (just for show)\n",
    "x_axis = np.linspace(0,10,20)\n",
    "w = 1 # our guess for the value of w\n",
    "y_hat = w*x_axis\n",
    "ax.plot(x_axis, y_hat, color='red');"
   ]
  },
  {
   "cell_type": "markdown",
   "metadata": {
    "slideshow": {
     "slide_type": "fragment"
    }
   },
   "source": [
    "In order to fit a model, we first need to define our error function:"
   ]
  },
  {
   "cell_type": "code",
   "execution_count": 32,
   "metadata": {
    "slideshow": {
     "slide_type": "fragment"
    }
   },
   "outputs": [],
   "source": [
    "def compute_mse(x, y, w):\n",
    "    \"\"\"function that computes mean squared error\"\"\"\n",
    "    y_hat = w*x\n",
    "    mse = np.mean((y - y_hat)**2)\n",
    "    return mse"
   ]
  },
  {
   "cell_type": "markdown",
   "metadata": {
    "slideshow": {
     "slide_type": "fragment"
    }
   },
   "source": [
    "Now let's evaluate the MSE of three different models (values of $w$)"
   ]
  },
  {
   "cell_type": "code",
   "execution_count": 33,
   "metadata": {},
   "outputs": [
    {
     "data": {
      "image/png": "[encoded data removed]",
      "text/plain": [
       "<Figure size 1296x360 with 3 Axes>"
      ]
     },
     "metadata": {
      "filenames": {
       "image/png": "C:\\Users\\Gunnar\\Documents\\Teaching\\NSCI801-QuantitativeNeuro\\NSCI801book\\_build\\jupyter_execute\\NSCI801_ModelFitting_14_0.png"
      }
     },
     "output_type": "display_data"
    }
   ],
   "source": [
    "w = [0.75, w_true, 1.5]\n",
    "\n",
    "fig, ax = plt.subplots(1, 3, figsize=(18,5))\n",
    "\n",
    "for i in range(3):\n",
    "    ax[i].scatter(x, y)\n",
    "    ax[i].plot(x_axis, w[i]*x_axis, color='red')\n",
    "    ax[i].set_ylim(-2,12)\n",
    "    ax[i].set_title('MSE = %f' % compute_mse(x,y,w[ i]));"
   ]
  },
  {
   "cell_type": "markdown",
   "metadata": {
    "slideshow": {
     "slide_type": "subslide"
    }
   },
   "source": [
    "### Model fitting 1 - MSE\n",
    "\n",
    "We still haven't answered our question: **How do we choose $w$?**\n",
    "\n",
    "The key is to think of MSE as a **cost function**."
   ]
  },
  {
   "cell_type": "code",
   "execution_count": 34,
   "metadata": {
    "slideshow": {
     "slide_type": "fragment"
    }
   },
   "outputs": [
    {
     "data": {
      "image/png": "[encoded data removed]",
      "text/plain": [
       "<Figure size 432x288 with 1 Axes>"
      ]
     },
     "metadata": {
      "filenames": {
       "image/png": "C:\\Users\\Gunnar\\Documents\\Teaching\\NSCI801-QuantitativeNeuro\\NSCI801book\\_build\\jupyter_execute\\NSCI801_ModelFitting_16_0.png"
      }
     },
     "output_type": "display_data"
    }
   ],
   "source": [
    "n_points = 50\n",
    "all_w = np.linspace(-2,4,n_points)\n",
    "mse = np.zeros((n_points))\n",
    "for i in range(n_points):\n",
    "    mse[i] = compute_mse(x, y, all_w[i])\n",
    "\n",
    "plt.plot(all_w,mse)\n",
    "plt.xlabel('w')\n",
    "plt.ylabel('MSE')\n",
    "plt.axvline(w_true, color='green')\n",
    "plt.legend(['cost','w_true']);"
   ]
  },
  {
   "cell_type": "markdown",
   "metadata": {
    "slideshow": {
     "slide_type": "fragment"
    }
   },
   "source": [
    "How do we choose $w$? Minimize the cost function!\n",
    "\n",
    "To minimize MSE, we solve for where its gradient is 0:\n",
    "\n",
    "$$\\nabla_w\\textrm{MSE} = 0$$\n",
    "$$\\nabla_w\\frac{1}{m}\\sum_i(\\hat{y_i}-y_i)^2 = 0$$\n",
    "$$ ... $$\n",
    "$$w = (X^TX)^{-1}X^Ty$$\n",
    "This is known as solving the normal equations (see [Deep Learning](https://www.deeplearningbook.org/) 5.1.4 for more details)."
   ]
  },
  {
   "cell_type": "code",
   "execution_count": 35,
   "metadata": {
    "slideshow": {
     "slide_type": "fragment"
    }
   },
   "outputs": [],
   "source": [
    "def solve_normal_eqn(x,y):\n",
    "    \"\"\"Function that solves the normal equations to produce the \n",
    "    value of w that minimizes MSE\"\"\"\n",
    "    \n",
    "    # our numpy arrays are 0-dimensional by default- for the\n",
    "    # transpose/dot product/inverse to work, we reshape them\n",
    "    m = len(x)\n",
    "    x = np.reshape(x, (m, 1))\n",
    "    y = np.reshape(y, (m, 1))\n",
    "\n",
    "    w = np.dot(np.dot(np.linalg.inv(x.T.dot(x)),x.T),y)\n",
    "    \n",
    "    return w"
   ]
  },
  {
   "cell_type": "code",
   "execution_count": 36,
   "metadata": {
    "slideshow": {
     "slide_type": "fragment"
    }
   },
   "outputs": [
    {
     "data": {
      "text/plain": [
       "array([[1.20816968]])"
      ]
     },
     "execution_count": 36,
     "metadata": {},
     "output_type": "execute_result"
    }
   ],
   "source": [
    "solve_normal_eqn(x,y)"
   ]
  },
  {
   "cell_type": "markdown",
   "metadata": {
    "slideshow": {
     "slide_type": "fragment"
    }
   },
   "source": [
    "And we're done! We have just recovered $w$ from the noisy data by analytically computing the solution to finding the minimum of the cost function!\n",
    "\n",
    "However this only works for very few select functions, such as linear functions...\n",
    "\n",
    "**Thus: we need a more general way...**"
   ]
  },
  {
   "cell_type": "markdown",
   "metadata": {
    "slideshow": {
     "slide_type": "slide"
    }
   },
   "source": [
    "### Model fitting 2 - MLE\n",
    "\n",
    "The likelihood of the data given the model can be used directly to estimate $\\theta$ through maximum likelihood estimation (MLE):\n",
    "$$\\hat{\\theta_{MLE}}=\\underset{\\theta}{\\operatorname{argmax}} P(D| \\theta)$$\n",
    "\n",
    "So practically, how do we do this?"
   ]
  },
  {
   "cell_type": "markdown",
   "metadata": {
    "slideshow": {
     "slide_type": "subslide"
    }
   },
   "source": [
    "### Model fitting 2 - MLE\n",
    "The likelihood of the model given the data is $\\mathcal{L}(\\theta|D) = P(D|\\theta)$\n",
    "\n",
    "* Think of probability relating to possible results\n",
    "* Think of likelihood relating to hypotheses\n",
    "\n",
    "Here we assume Gaussian noise; the loglikelihood is thus given by:\n",
    "\n",
    "$$\\mathcal{L}(\\mu, \\sigma | X) = \\prod_{i=1}^m\\frac{1}{\\sqrt{2\\pi\\sigma^2}}\\exp(-\\frac{(x_i-\\mu)^2}{2\\sigma^2})$$$$\\textrm{log}\\mathcal{L}(\\mu, \\sigma | x) = \\sum_{i=1}^m\\textrm{log}\\frac{1}{\\sqrt{2\\pi\\sigma^2}}\\exp(-\\frac{(x_i-\\mu)^2}{2\\sigma^2})$$\n",
    "\n",
    "We now want to minimize the negative loglikelihood..."
   ]
  },
  {
   "cell_type": "markdown",
   "metadata": {
    "slideshow": {
     "slide_type": "subslide"
    }
   },
   "source": [
    "### Model fitting 2 - MLE\n",
    "What is a likelihood?\n",
    "\n",
    "Let's say we have a single lonely data point $x$ sampled from one of two candidate normal distributions $f_1=\\mathcal{N}(\\theta_1)$ and $f_2=\\mathcal{N}(\\theta_2)$ where $\\theta_1 = \\{\\mu_1,\\sigma_1\\}$ and $\\theta = \\{\\mu_2, \\sigma_2\\}$."
   ]
  },
  {
   "cell_type": "code",
   "execution_count": 37,
   "metadata": {
    "slideshow": {
     "slide_type": "fragment"
    }
   },
   "outputs": [
    {
     "data": {
      "image/png": "[encoded data removed]",
      "text/plain": [
       "<Figure size 432x288 with 1 Axes>"
      ]
     },
     "metadata": {
      "filenames": {
       "image/png": "C:\\Users\\Gunnar\\Documents\\Teaching\\NSCI801-QuantitativeNeuro\\NSCI801book\\_build\\jupyter_execute\\NSCI801_ModelFitting_24_0.png"
      }
     },
     "output_type": "display_data"
    }
   ],
   "source": [
    "x = -0.5\n",
    "mu1, sig1 = -1, 1\n",
    "mu2, sig2 = 2, 2\n",
    "x_axis = np.linspace(-8,8,100)\n",
    "f1 = norm.pdf(x_axis, mu1, sig1)\n",
    "f2 = norm.pdf(x_axis, mu2, sig2)\n",
    "\n",
    "ax = plt.subplot(111)\n",
    "ax.scatter(x, 0, color='red');\n",
    "ax.plot(x_axis, f1);\n",
    "ax.plot(x_axis, f2);\n",
    "ax.set_ylabel('Probability density');"
   ]
  },
  {
   "cell_type": "code",
   "execution_count": 38,
   "metadata": {
    "slideshow": {
     "slide_type": "fragment"
    }
   },
   "outputs": [
    {
     "name": "stdout",
     "output_type": "stream",
     "text": [
      "L(theta1|x) = 0.352065\n",
      "L(theta2|x) = 0.091325\n"
     ]
    },
    {
     "data": {
      "image/png": "[encoded data removed]",
      "text/plain": [
       "<Figure size 432x288 with 1 Axes>"
      ]
     },
     "metadata": {
      "filenames": {
       "image/png": "C:\\Users\\Gunnar\\Documents\\Teaching\\NSCI801-QuantitativeNeuro\\NSCI801book\\_build\\jupyter_execute\\NSCI801_ModelFitting_25_1.png"
      }
     },
     "output_type": "display_data"
    }
   ],
   "source": [
    "prob1 = norm.pdf(x, mu1, sig1)\n",
    "prob2 = norm.pdf(x, mu2, sig2)\n",
    "print('L(theta1|x) = %f' % prob1)\n",
    "print('L(theta2|x) = %f' % prob2)\n",
    "\n",
    "ax = plt.subplot(111)\n",
    "ax.scatter(x, 0, color='red');\n",
    "ax.plot(x_axis, f1);\n",
    "ax.plot(x_axis, f2, color='orange');\n",
    "ax.axhline(prob1)\n",
    "ax.axhline(prob2, color='orange')\n",
    "ax.axvline(x, color='red')\n",
    "ax.set_ylabel('Probability density');"
   ]
  },
  {
   "cell_type": "markdown",
   "metadata": {
    "slideshow": {
     "slide_type": "subslide"
    }
   },
   "source": [
    "### Model fitting 2 - MLE\n",
    "What if we now add a data point?"
   ]
  },
  {
   "cell_type": "code",
   "execution_count": 12,
   "metadata": {
    "slideshow": {
     "slide_type": "fragment"
    }
   },
   "outputs": [
    {
     "data": {
      "image/png": "[encoded data removed]",
      "text/plain": [
       "<Figure size 432x288 with 1 Axes>"
      ]
     },
     "metadata": {
      "filenames": {
       "image/png": "C:\\Users\\Gunnar\\Documents\\Teaching\\NSCI801-QuantitativeNeuro\\NSCI801book\\_build\\jupyter_execute\\NSCI801_ModelFitting_27_0.png"
      }
     },
     "output_type": "display_data"
    }
   ],
   "source": [
    "x = [-0.5, 2]\n",
    "\n",
    "ax = plt.subplot(111)\n",
    "ax.scatter(x, [0, 0], color='red')\n",
    "ax.plot(x_axis, f1)\n",
    "ax.plot(x_axis, f2)\n",
    "ax.set_ylabel('Probability density')\n",
    "plt.show()"
   ]
  },
  {
   "cell_type": "code",
   "execution_count": 13,
   "metadata": {
    "slideshow": {
     "slide_type": "fragment"
    }
   },
   "outputs": [
    {
     "name": "stdout",
     "output_type": "stream",
     "text": [
      "L(theta1|x) = 0.001560\n",
      "L(theta2|x) = 0.018217\n"
     ]
    }
   ],
   "source": [
    "prob1 = norm.pdf(x[0], mu1, sig1)*norm.pdf(x[1], mu1, sig1)\n",
    "prob2 = norm.pdf(x[0], mu2, sig2)*norm.pdf(x[1], mu2, sig2)\n",
    "print('L(theta1|x) = %f' % prob1)\n",
    "print('L(theta2|x) = %f' % prob2)"
   ]
  },
  {
   "cell_type": "markdown",
   "metadata": {
    "slideshow": {
     "slide_type": "subslide"
    }
   },
   "source": [
    "### Model fitting 2 - MLE\n",
    "Now back to our fitting problem...\n",
    "\n",
    "We need to define our loglikelihood function:"
   ]
  },
  {
   "cell_type": "code",
   "execution_count": 39,
   "metadata": {},
   "outputs": [
    {
     "data": {
      "image/png": "[encoded data removed]",
      "text/plain": [
       "<Figure size 432x288 with 1 Axes>"
      ]
     },
     "metadata": {
      "filenames": {
       "image/png": "C:\\Users\\Gunnar\\Documents\\Teaching\\NSCI801-QuantitativeNeuro\\NSCI801book\\_build\\jupyter_execute\\NSCI801_ModelFitting_30_0.png"
      }
     },
     "output_type": "display_data"
    }
   ],
   "source": [
    "# generate some noisy data\n",
    "n_samples = 150\n",
    "w_true = 1.2\n",
    "x = np.random.rand(n_samples)*10\n",
    "noise = norm.rvs(0,1,x.shape) # the original code used uniform noise\n",
    "y = w_true*x + noise\n",
    "\n",
    "ax = plt.subplot(1,1,1)\n",
    "ax.scatter(x, y)\n",
    "ax.set_xlabel('x')\n",
    "ax.set_ylabel('y')\n",
    "\n",
    "# linear regression model (just for show)\n",
    "x_axis = np.linspace(0,10,20)\n",
    "w = 1 # our guess for the value of w\n",
    "y_hat = w*x_axis\n",
    "ax.plot(x_axis, y_hat, color='red');"
   ]
  },
  {
   "cell_type": "code",
   "execution_count": 41,
   "metadata": {
    "slideshow": {
     "slide_type": "fragment"
    }
   },
   "outputs": [],
   "source": [
    "def compute_y_hat(x, w):\n",
    "    \"\"\"function that computes y_hat (aka y=w0*1 + w1*x)\"\"\"\n",
    "    y_hat = np.dot(x,w)\n",
    "    return y_hat"
   ]
  },
  {
   "cell_type": "code",
   "execution_count": 42,
   "metadata": {
    "slideshow": {
     "slide_type": "fragment"
    }
   },
   "outputs": [],
   "source": [
    "# pad x so that matrix operation X*w gives w0 + x*w1\n",
    "X = np.c_[np.ones((x.shape[0], 1)), x] "
   ]
  },
  {
   "cell_type": "code",
   "execution_count": 43,
   "metadata": {
    "slideshow": {
     "slide_type": "fragment"
    }
   },
   "outputs": [],
   "source": [
    "# we assume the data is normally distributed around the function defined in y_hat...\n",
    "def compute_nll(x, y, w):\n",
    "    \"\"\"function that computes the negative log likelihood of a gaussian\"\"\"\n",
    "    y_hat = compute_y_hat(x, w)\n",
    "    sig = np.std(y-y_hat)\n",
    "    ll = -np.sum(norm.logpdf(y, y_hat, sig))\n",
    "    return ll"
   ]
  },
  {
   "cell_type": "markdown",
   "metadata": {
    "slideshow": {
     "slide_type": "subslide"
    }
   },
   "source": [
    "We're now ready to minimize the loglikelihood function through adapting model parameters..."
   ]
  },
  {
   "cell_type": "code",
   "execution_count": 45,
   "metadata": {
    "slideshow": {
     "slide_type": "fragment"
    }
   },
   "outputs": [
    {
     "name": "stdout",
     "output_type": "stream",
     "text": [
      "      fun: 203.6943986857902\n",
      " hess_inv: array([[ 0.02791486, -0.00426672],\n",
      "       [-0.00426672,  0.00082749]])\n",
      "      jac: array([1.90734863e-06, 3.81469727e-06])\n",
      "  message: 'Optimization terminated successfully.'\n",
      "     nfev: 30\n",
      "      nit: 6\n",
      "     njev: 10\n",
      "   status: 0\n",
      "  success: True\n",
      "        x: array([0.34100692, 1.15404339])\n"
     ]
    },
    {
     "data": {
      "image/png": "[encoded data removed]",
      "text/plain": [
       "<Figure size 432x288 with 1 Axes>"
      ]
     },
     "metadata": {
      "filenames": {
       "image/png": "C:\\Users\\Gunnar\\Documents\\Teaching\\NSCI801-QuantitativeNeuro\\NSCI801book\\_build\\jupyter_execute\\NSCI801_ModelFitting_35_1.png"
      }
     },
     "output_type": "display_data"
    }
   ],
   "source": [
    "from scipy.optimize import minimize\n",
    "\n",
    "# initial guess of w\n",
    "w0 = np.array([0, 1])\n",
    "\n",
    "# define a new version of our -log-likelihood that is only a function of w:\n",
    "fun = lambda w: compute_nll(X, y, w)\n",
    "\n",
    "# pass these arguments to minimize\n",
    "result = minimize(fun, w0)\n",
    "print(result)\n",
    "\n",
    "# plot results\n",
    "ax = plt.subplot(1,1,1)\n",
    "ax.scatter(x, y)\n",
    "ax.set_xlabel('x')\n",
    "ax.set_ylabel('y')\n",
    "\n",
    "# linear regression model (just for show)\n",
    "x_axis = np.linspace(0,10,20)\n",
    "w = result.x[1] # our guess for the value of w\n",
    "y_hat = w*x_axis\n",
    "ax.plot(x_axis, y_hat, color='red');"
   ]
  },
  {
   "cell_type": "markdown",
   "metadata": {
    "slideshow": {
     "slide_type": "fragment"
    }
   },
   "source": [
    "**All done!**"
   ]
  },
  {
   "cell_type": "markdown",
   "metadata": {
    "slideshow": {
     "slide_type": "subslide"
    }
   },
   "source": [
    "### Model fitting 2 - MLE\n",
    "In practice, we don't want to test our model on the same data we trained it with! To avoid that we typically divide data into _training set_ and _test set_. This allows for what's called **cross-validation**. General procedure:\n",
    "\n",
    "* draw a random subset of your data = _training data_. Remaining data = _test set_\n",
    "* perform fitting procedure on _training set_ to identify model parameters\n",
    "* test model performance on _test set_, e.g. compute loglikelihood of _test set_ given the identified model parameters\n",
    "* do this many times...\n",
    "\n",
    "If your training set is all but 1 data point, this is called **leave-one-out** cross-validation. "
   ]
  },
  {
   "cell_type": "markdown",
   "metadata": {
    "slideshow": {
     "slide_type": "slide"
    }
   },
   "source": [
    "### Model fitting - bootstrap\n",
    "Bootstrapping is similar cross-validation, but the boostrap sample is chosen in a specific way to obtain meaningful statistics on the estimated parameters.\n",
    "\n",
    "Bootstrapping is a test/metric that relies on **random sampling with replacement**. As a result, we can estimate properties of estimators (e.g. fit parameters).\n",
    "\n",
    "**Assumption**: the limited data available is representative of the population data.\n",
    "\n",
    "**Advantage**: no prior knowledge or assumption about the data sampling process!"
   ]
  },
  {
   "cell_type": "markdown",
   "metadata": {
    "slideshow": {
     "slide_type": "subslide"
    }
   },
   "source": [
    "### Model fitting - bootstrap\n",
    "![bootstrapping](stuff/bootstrap.png)\n",
    "\n",
    "[Toward Data Science: Intro to bootstrap](https://towardsdatascience.com/an-introduction-to-the-bootstrap-method-58bcb51b4d60)"
   ]
  },
  {
   "cell_type": "markdown",
   "metadata": {
    "slideshow": {
     "slide_type": "subslide"
    }
   },
   "source": [
    "### Model fitting - bootstrap\n",
    "Bootstrap comes in handy when there is no analytical form or normal theory to help estimate the distribution of the statistics of interest, since bootstrap methods can apply to most random quantities. Here is how it works:\n",
    "\n",
    "* randomly resample your data with replacement\n",
    "* perform estimation on resampled data, e.g. compute mean, perform model fit, etc\n",
    "* repeat many times, e.g. $N=1000$\n",
    "* compute bootstrap distribution\n",
    "\n",
    "Result: empirical percentiles ($\\alpha$/2) of bootstrap distribution form confidence interval over parameters with confidence level $\\alpha$, i.e. $(\\theta^*_{\\alpha/2}, \\theta^*_{1-\\alpha/2})$"
   ]
  },
  {
   "cell_type": "markdown",
   "metadata": {
    "slideshow": {
     "slide_type": "subslide"
    }
   },
   "source": [
    "Let's do it!"
   ]
  },
  {
   "cell_type": "code",
   "execution_count": 46,
   "metadata": {
    "slideshow": {
     "slide_type": "fragment"
    }
   },
   "outputs": [],
   "source": [
    "# generate some noisy data\n",
    "n_samples = 150\n",
    "w_true = 1.2\n",
    "x = np.random.rand(n_samples)*10\n",
    "noise = norm.rvs(0,1,x.shape) # the original code used uniform noise\n",
    "y = w_true*x + 1*noise"
   ]
  },
  {
   "cell_type": "code",
   "execution_count": 49,
   "metadata": {
    "slideshow": {
     "slide_type": "fragment"
    }
   },
   "outputs": [],
   "source": [
    "boot_est = []\n",
    "for _ in range(1000):\n",
    "    # chose a random sample of our data with replacement\n",
    "    bootind = np.random.choice(list(range(0,n_samples-1)),size=n_samples, replace=True)\n",
    "    xb = x[bootind]\n",
    "    yb = y[bootind]\n",
    "    \n",
    "    # append 1s\n",
    "    Xb = np.c_[np.ones((xb.shape[0], 1)), xb]\n",
    "    \n",
    "    # fit model\n",
    "    w0 = np.array([0, 0])\n",
    "    fun = lambda w: compute_nll(Xb, yb, w)\n",
    "    result = minimize(fun, w0)\n",
    "    \n",
    "    # save results\n",
    "    boot_est.append(result.x[1])"
   ]
  },
  {
   "cell_type": "code",
   "execution_count": 50,
   "metadata": {
    "slideshow": {
     "slide_type": "fragment"
    }
   },
   "outputs": [
    {
     "name": "stdout",
     "output_type": "stream",
     "text": [
      "[1.1376369217837263, 1.1958713507549792, 1.2546932636792674]\n",
      "[1.1955797053496076, 0.029987463824238652]\n"
     ]
    },
    {
     "data": {
      "image/png": "[encoded data removed]",
      "text/plain": [
       "<Figure size 432x288 with 1 Axes>"
      ]
     },
     "metadata": {
      "filenames": {
       "image/png": "C:\\Users\\Gunnar\\Documents\\Teaching\\NSCI801-QuantitativeNeuro\\NSCI801book\\_build\\jupyter_execute\\NSCI801_ModelFitting_44_1.png"
      }
     },
     "output_type": "display_data"
    }
   ],
   "source": [
    "# plot bootstrap distribution\n",
    "plt.hist(boot_est)\n",
    "\n",
    "# confidence level\n",
    "alp = 0.05\n",
    "\n",
    "# compute percentiles\n",
    "est_low = np.percentile(boot_est, 100*alp/2)\n",
    "est_high = np.percentile(boot_est, 100*(1-alp/2))\n",
    "est_median = np.percentile(boot_est, 50)\n",
    "est_mean = np.mean(boot_est)\n",
    "est_std = np.std(boot_est)\n",
    "\n",
    "plt.axvline(est_low, color='green')\n",
    "plt.axvline(est_high, color='green')\n",
    "plt.axvline(est_median, color='red')\n",
    "\n",
    "print([est_low, est_median, est_high])\n",
    "print([est_mean, est_std])"
   ]
  },
  {
   "cell_type": "markdown",
   "metadata": {
    "slideshow": {
     "slide_type": "slide"
    }
   },
   "source": [
    "### Model comparison: how to chose the best model?\n",
    "* use Bayes Factor (see last lecture)\n",
    "* compare MSE after k-fold cross-validation\n",
    "* use Akaike's Information Criterion (AIC)\n",
    "\n",
    "Always split your dataset into *training data* and *test data*!"
   ]
  },
  {
   "cell_type": "markdown",
   "metadata": {
    "slideshow": {
     "slide_type": "subslide"
    }
   },
   "source": [
    "### k-fold cross-validation\n",
    "![x-val](stuff/grid_search_cross_validation.png)\n",
    "\n",
    "[from scikit-learn tutorial](https://scikit-learn.org/stable/modules/cross_validation.html)"
   ]
  },
  {
   "cell_type": "markdown",
   "metadata": {
    "slideshow": {
     "slide_type": "fragment"
    }
   },
   "source": [
    "if you want to do that, check out the [from scikit-learn tutorial](https://scikit-learn.org/stable/modules/cross_validation.html) or the [Neuromatch Academy tutorial on model fitting (especially tutorial 6)](https://github.com/NeuromatchAcademy/course-content/blob/master/tutorials/README.md#w1d3---model-fitting)"
   ]
  },
  {
   "cell_type": "markdown",
   "metadata": {
    "slideshow": {
     "slide_type": "subslide"
    }
   },
   "source": [
    "### Akaike Information Criterion (AIC)\n",
    "Estimates how much information would be lost if the model predictions were used instead of the true data. \n",
    "\n",
    "AIC strives for a good tradeoff between overfitting and underfitting by taking into account the complexity of the model and the information lost. AIC is calculated as:\n",
    "\n",
    "$$AIC = 2K - 2\\log(L)$$\n",
    "\n",
    "with:\n",
    "* K: number parameters in the model\n",
    "* $\\log(L)$: loglikelihood of data given your best model paremeters\n",
    "\n",
    "Note: smallest AIC values are best! ([see Wikipedia page for more info](https://en.wikipedia.org/wiki/Akaike_information_criterion))"
   ]
  },
  {
   "cell_type": "markdown",
   "metadata": {
    "slideshow": {
     "slide_type": "fragment"
    }
   },
   "source": [
    "We can now do model comparison by computing the following relative probability that *i*th model minimizes the (estimated) information loss:\n",
    "\n",
    "$$e^{(AIC_{min}-AIC_i)/2}$$"
   ]
  },
  {
   "cell_type": "markdown",
   "metadata": {
    "slideshow": {
     "slide_type": "slide"
    }
   },
   "source": [
    "### Further readings\n",
    "* [Neuromatch Academy W1D3 - model fitting](https://github.com/NeuromatchAcademy/course-content/blob/master/tutorials/README.md#w1d3---model-fitting)\n",
    "* [Bayesian Adaptive Directed Search (BADS)](https://github.com/lacerbi/bads)"
   ]
  }
 ],
 "metadata": {
  "celltoolbar": "Slideshow",
  "kernelspec": {
   "display_name": "Python 3 (ipykernel)",
   "language": "python",
   "name": "python3"
  },
  "language_info": {
   "codemirror_mode": {
    "name": "ipython",
    "version": 3
   },
   "file_extension": ".py",
   "mimetype": "text/x-python",
   "name": "python",
   "nbconvert_exporter": "python",
   "pygments_lexer": "ipython3",
   "version": "3.10.4"
  }
 },
 "nbformat": 4,
 "nbformat_minor": 2
}