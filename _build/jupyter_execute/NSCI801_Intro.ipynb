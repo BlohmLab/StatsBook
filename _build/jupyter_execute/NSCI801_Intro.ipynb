{
 "cells": [
  {
   "cell_type": "markdown",
   "metadata": {
    "slideshow": {
     "slide_type": "slide"
    }
   },
   "source": [
    "# Introduction\n",
    "## NSCI 801 - Quantitative Neuroscience\n",
    "\n",
    "Gunnar Blohm"
   ]
  },
  {
   "cell_type": "markdown",
   "metadata": {
    "slideshow": {
     "slide_type": "slide"
    }
   },
   "source": [
    "### Outline\n",
    "\n",
    "* Why quantitative Neuroscience?\n",
    "* Course overview & materials\n",
    "* The research process\n",
    "* Study design\n"
   ]
  },
  {
   "cell_type": "markdown",
   "metadata": {
    "slideshow": {
     "slide_type": "slide"
    }
   },
   "source": [
    "### Why Quantitative Neuroscience?\n",
    "\n",
    "* We want to quantify observations\n",
    "* But data is corrupted by noise\n",
    "* Certain things are not directly observable (latent)\n",
    "    + we need models!\n",
    "* Ultimately we want to identify **_causal_** relationships"
   ]
  },
  {
   "cell_type": "markdown",
   "metadata": {
    "slideshow": {
     "slide_type": "subslide"
    }
   },
   "source": [
    "### Why Quantitative Neuroscience?\n",
    "\n",
    "* We want to quantify observations\n",
    "    - questionnaires\n",
    "    - measurements\n",
    "    \n",
    "But: such observations are variable..."
   ]
  },
  {
   "cell_type": "markdown",
   "metadata": {
    "slideshow": {
     "slide_type": "subslide"
    }
   },
   "source": [
    "### Why Quantitative Neuroscience?\n",
    "\n",
    "* We want to quantify observations\n",
    "* But data is corrupted by noise\n",
    "    - noise in the process / system\n",
    "    - noise due to the measurement\n",
    "    - noise due to A/D conversion\n",
    "    - noise due to post-processing\n",
    "\n",
    "Thus: we need ways to infer reality from noisy data"
   ]
  },
  {
   "cell_type": "markdown",
   "metadata": {
    "slideshow": {
     "slide_type": "subslide"
    }
   },
   "source": [
    "### Why Quantitative Neuroscience?\n",
    "\n",
    "* We want to quantify observations\n",
    "* But data is corrupted by noise\n",
    "* Certain things are not directly observable (latent)\n",
    "    - e.g. we cannot measure your thought process (yet), only the outcome!\n",
    "    - e.g. we cannot measure inflammation, only the body's reaction\n",
    "    - we often want good \"measures\" of latent variables\n",
    "* Ultimately we want to identify **_causal_** relationships\n",
    "\n",
    "Solution: we need models that causally link latent variables to measurable quantities"
   ]
  },
  {
   "cell_type": "markdown",
   "metadata": {
    "slideshow": {
     "slide_type": "slide"
    }
   },
   "source": [
    "### Course overview & materials\n",
    "\n",
    "* [course web site](http://www.compneurosci.com/NSCI801.html)\n",
    "* we will use Google Colab - you need a Google account!\n",
    "* all lecture materials will be in Python & Markdown\n",
    "* slides / tutorials will be shared on [GitHub](https://github.com/BlohmLab/NSCI801-QuantNeuro)...\n",
    "* download code from Github into Colab: File>>Open Notebook>>Github..."
   ]
  },
  {
   "cell_type": "markdown",
   "metadata": {
    "slideshow": {
     "slide_type": "subslide"
    }
   },
   "source": [
    "### for those interested...\n",
    "\n",
    "* Jupyter Notebook has a \"slide\" option that produces HTML5 slides\n",
    "    - [read more about it](https://medium.com/@mjspeck/presenting-code-using-jupyter-notebook-slides-a8a3c3b59d67)\n",
    "* install Reveal.js - Jupyter/IPython Slideshow Extension (RISE)\n",
    "    - [install and use](https://rise.readthedocs.io/en/maint-5.5/index.html)\n",
    "    \n",
    "But you **don't** need any of this!"
   ]
  },
  {
   "cell_type": "markdown",
   "metadata": {
    "slideshow": {
     "slide_type": "subslide"
    }
   },
   "source": [
    "### Course overview & materials\n",
    "\n",
    "#### Goals of the course:\n",
    "* hands-on skills in signal processing, basic and advanced statistics, data neuroscience (machine learning) and model fitting methods\n",
    "* gain intuitive understanding of these topics\n",
    "* introduction to scientific programming in Python\n",
    "* familiarization with open science framework approaches"
   ]
  },
  {
   "cell_type": "markdown",
   "metadata": {
    "slideshow": {
     "slide_type": "subslide"
    }
   },
   "source": [
    "### Course overview & materials\n",
    "\n",
    "#### [Specific topics](http://www.compneurosci.com/NSCI801.html):\n",
    "* intro to Python & Colab\n",
    "* signal processing\n",
    "* statistics and hypothesis testing\n",
    "* models & data neuroscience\n",
    "* causality, reproducibility, Open Science"
   ]
  },
  {
   "cell_type": "markdown",
   "metadata": {
    "slideshow": {
     "slide_type": "slide"
    }
   },
   "source": [
    "### The research process\n",
    "\n",
    "![process](stuff/research-process.png)"
   ]
  },
  {
   "cell_type": "markdown",
   "metadata": {
    "slideshow": {
     "slide_type": "subslide"
    }
   },
   "source": [
    "### The research process\n",
    "\n",
    "#### Research design:\n",
    "* what is power?\n",
    "* what is effect size?\n",
    "* how to determine sample size?\n"
   ]
  },
  {
   "cell_type": "markdown",
   "metadata": {
    "slideshow": {
     "slide_type": "subslide"
    }
   },
   "source": [
    "### The research process\n",
    "\n",
    "#### Research design:\n",
    "* what is power?\n",
    "\n",
    "    Power calculations tell us how many samples are required in order to avoid a type I (false positive) or a type II (false negative) error\n",
    "    \n",
    "    Typically in hypothesis testing, only type II errors are considered: For a type II error probability of $\\beta$, the corresponding statistical power is $1 − \\beta$\n",
    "\n",
    "\n"
   ]
  },
  {
   "cell_type": "markdown",
   "metadata": {
    "slideshow": {
     "slide_type": "subslide"
    }
   },
   "source": [
    "### The research process\n",
    "\n",
    "#### Research design:\n",
    "* what is effect size?\n",
    "\n",
    "    Quantification of the difference between two groups\n",
    "    \n",
    "    E.g. Cohen $\\color{grey}{d=\\frac{\\mu_1-\\mu_2}{\\sigma}}$\n",
    "    \n",
    "![effect-size](stuff/effect-size.png)"
   ]
  },
  {
   "cell_type": "markdown",
   "metadata": {
    "slideshow": {
     "slide_type": "subslide"
    }
   },
   "source": [
    "### The research process\n",
    "\n",
    "#### Let's play - effect size"
   ]
  },
  {
   "cell_type": "code",
   "execution_count": 1,
   "metadata": {
    "slideshow": {
     "slide_type": "fragment"
    }
   },
   "outputs": [
    {
     "ename": "ModuleNotFoundError",
     "evalue": "No module named 'matplotlib'",
     "output_type": "error",
     "traceback": [
      "\u001b[1;31m---------------------------------------------------------------------------\u001b[0m",
      "\u001b[1;31mModuleNotFoundError\u001b[0m                       Traceback (most recent call last)",
      "Input \u001b[1;32mIn [1]\u001b[0m, in \u001b[0;36m<cell line: 1>\u001b[1;34m()\u001b[0m\n\u001b[1;32m----> 1\u001b[0m \u001b[38;5;28;01mimport\u001b[39;00m \u001b[38;5;21;01mmatplotlib\u001b[39;00m\u001b[38;5;21;01m.\u001b[39;00m\u001b[38;5;21;01mpyplot\u001b[39;00m \u001b[38;5;28;01mas\u001b[39;00m \u001b[38;5;21;01mplt\u001b[39;00m\n\u001b[0;32m      2\u001b[0m \u001b[38;5;28;01mimport\u001b[39;00m \u001b[38;5;21;01mnumpy\u001b[39;00m \u001b[38;5;28;01mas\u001b[39;00m \u001b[38;5;21;01mnp\u001b[39;00m\n\u001b[0;32m      3\u001b[0m \u001b[38;5;28;01mimport\u001b[39;00m \u001b[38;5;21;01mscipy\u001b[39;00m\u001b[38;5;21;01m.\u001b[39;00m\u001b[38;5;21;01mstats\u001b[39;00m \u001b[38;5;28;01mas\u001b[39;00m \u001b[38;5;21;01mstats\u001b[39;00m\n",
      "\u001b[1;31mModuleNotFoundError\u001b[0m: No module named 'matplotlib'"
     ]
    }
   ],
   "source": [
    "import matplotlib.pyplot as plt\n",
    "import numpy as np\n",
    "import scipy.stats as stats\n",
    "import math\n",
    "\n",
    "plt.style.use('dark_background') \n",
    "\n",
    "x = np.linspace(-5, 5, 200)\n",
    "mu1 = -1\n",
    "sigma = .2\n",
    "plt.plot(x, stats.norm.pdf(x, mu1, sigma))\n",
    "mu2 = .5\n",
    "sigma = .2\n",
    "plt.plot(x, stats.norm.pdf(x, mu2, sigma))\n",
    "plt.show()\n",
    "print(\"Effect size d =\", abs((mu1-mu2)/sigma))"
   ]
  },
  {
   "cell_type": "markdown",
   "metadata": {
    "slideshow": {
     "slide_type": "subslide"
    }
   },
   "source": [
    "### The research process\n",
    "\n",
    "#### Let's play - random samples"
   ]
  },
  {
   "cell_type": "code",
   "execution_count": 2,
   "metadata": {
    "slideshow": {
     "slide_type": "fragment"
    }
   },
   "outputs": [
    {
     "data": {
      "image/png": "[encoded data removed]",
      "text/plain": [
       "<Figure size 432x288 with 1 Axes>"
      ]
     },
     "metadata": {
      "filenames": {
       "image/png": "C:\\Users\\Gunnar\\Documents\\Teaching\\NSCI801-QuantitativeNeuro\\NSCI801book\\_build\\jupyter_execute\\NSCI801_Intro_17_0.png"
      }
     },
     "output_type": "display_data"
    }
   ],
   "source": [
    "mu1 = -1\n",
    "mu2 = 1\n",
    "sigma = 1\n",
    "N = 10 # number samples\n",
    "s1 = np.random.normal(mu1, sigma, N)\n",
    "s2 = np.random.normal(mu2, sigma, N)\n",
    "plt.hist(s1, 30, density=True)\n",
    "plt.hist(s2, 30, density=True)\n",
    "plt.show()"
   ]
  },
  {
   "cell_type": "markdown",
   "metadata": {
    "slideshow": {
     "slide_type": "subslide"
    }
   },
   "source": [
    "### The research process\n",
    "\n",
    "#### Research design:\n",
    "\n",
    "* how to determine sample size? (aka power calculations)\n",
    "    \n",
    "    - you essentially simulate your statistical analysis\n",
    "    - you need to make meaningful assumptions, e.g. group difference, variability, power\n",
    "    - you want to know how many samples you need so that you can reliably identify the hypothesized effect\n",
    "\n",
    "* many tools available, e.g. [G*Power](http://www.gpower.hhu.de/), [WebPower online](https://webpower.psychstat.org/wiki/), [powerandsamplesize.com](powerandsamplesize.com), ...\n",
    "* for Python: [StatsModels package](http://www.statsmodels.org/stable/index.html)"
   ]
  },
  {
   "cell_type": "markdown",
   "metadata": {
    "slideshow": {
     "slide_type": "subslide"
    }
   },
   "source": [
    "### The research process\n",
    "\n",
    "#### Research design - let's compute sample size\n",
    "\n",
    "This is for a repeated measures t-test..."
   ]
  },
  {
   "cell_type": "code",
   "execution_count": 4,
   "metadata": {
    "slideshow": {
     "slide_type": "fragment"
    }
   },
   "outputs": [
    {
     "data": {
      "image/png": "[encoded data removed]",
      "text/plain": [
       "<Figure size 432x288 with 1 Axes>"
      ]
     },
     "metadata": {
      "filenames": {
       "image/png": "C:\\Users\\Gunnar\\Documents\\Teaching\\NSCI801-QuantitativeNeuro\\NSCI801book\\_build\\jupyter_execute\\NSCI801_Intro_20_0.png"
      }
     },
     "output_type": "display_data"
    }
   ],
   "source": [
    "from numpy import array\n",
    "from statsmodels.stats.power import TTestIndPower\n",
    "# from statsmodels.stats.power import TTestIndPower\n",
    "\n",
    "# parameters for power analysis\n",
    "effect_sizes = array([0.2, 0.5, 0.8])\n",
    "sample_sizes = array(range(5, 100))\n",
    "# calculate power curves from multiple power analyses\n",
    "analysis = TTestIndPower() # or TTestIndPower for independent samples\n",
    "analysis.plot_power(dep_var='nobs', nobs=sample_sizes, effect_size=effect_sizes)\n",
    "plt.show()"
   ]
  },
  {
   "cell_type": "markdown",
   "metadata": {
    "slideshow": {
     "slide_type": "fragment"
    }
   },
   "source": [
    "**What does this mean?**\n",
    "\n",
    "* Power is the probability of rejecting the null hypothesis when, in fact, it is false.\n",
    "* Power is the probability of making a correct decision (to reject the null hypothesis) when the null hypothesis is false.\n",
    "* Power is the probability that a test of significance will pick up on an effect that is present.\n",
    "* Power is the probability that a test of significance will detect a deviation from the null hypothesis, should such a deviation exist.\n",
    "* Power is the probability of avoiding a Type II error.\n",
    "* Simply put, power is the probability of not making a Type II error"
   ]
  },
  {
   "cell_type": "markdown",
   "metadata": {
    "slideshow": {
     "slide_type": "subslide"
    }
   },
   "source": [
    "### The research process\n",
    "\n",
    "![science progress](stuff/higgins-science-creationism.png)"
   ]
  },
  {
   "cell_type": "markdown",
   "metadata": {
    "slideshow": {
     "slide_type": "subslide"
    }
   },
   "source": [
    "### The research process\n",
    "\n",
    "#### Hypothesis testing:\n",
    "* parametric\n",
    "* non-parametric\n",
    "* Bayesian\n",
    "* model-based\n",
    "* ...\n",
    "\n",
    "More later!\n"
   ]
  },
  {
   "cell_type": "markdown",
   "metadata": {
    "slideshow": {
     "slide_type": "subslide"
    }
   },
   "source": [
    "### The research process\n",
    "\n",
    "#### Pearl's research flow\n",
    "![Pearl](stuff/Pearl-flow.png)\n",
    "\n",
    "Pearl & Mackenzie, “The book of why”, 2018"
   ]
  },
  {
   "cell_type": "markdown",
   "metadata": {
    "slideshow": {
     "slide_type": "slide"
    }
   },
   "source": [
    "### Further readings\n",
    "\n",
    "* [A review of statistical concepts](http://www.sagepub.com/upm-data/49259_ch_1.pdf)\n",
    "* [Bruno Olshausen's probability primer](http://www.rctn.org/bruno/npb163/probability.pdf)\n",
    "* [Handbook of Biological Statistics - Power analysis](http://www.biostathandbook.com/power.html)\n",
    "* [Introduction to Power analysis in Python](https://towardsdatascience.com/introduction-to-power-analysis-in-python-e7b748dfa26)"
   ]
  }
 ],
 "metadata": {
  "celltoolbar": "Slideshow",
  "kernelspec": {
   "display_name": "Python 3 (ipykernel)",
   "language": "python",
   "name": "python3"
  },
  "language_info": {
   "codemirror_mode": {
    "name": "ipython",
    "version": 3
   },
   "file_extension": ".py",
   "mimetype": "text/x-python",
   "name": "python",
   "nbconvert_exporter": "python",
   "pygments_lexer": "ipython3",
   "version": "3.10.4"
  }
 },
 "nbformat": 4,
 "nbformat_minor": 2
}